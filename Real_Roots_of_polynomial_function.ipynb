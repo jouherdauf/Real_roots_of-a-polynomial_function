{
  "cells": [
    {
      "cell_type": "markdown",
      "metadata": {
        "id": "view-in-github",
        "colab_type": "text"
      },
      "source": [
        "<a href=\"https://colab.research.google.com/github/jouherdauf/Real_roots_of-a-polynomial_function/blob/main/Real_Roots_of_polynomial_function.ipynb\" target=\"_parent\"><img src=\"https://colab.research.google.com/assets/colab-badge.svg\" alt=\"Open In Colab\"/></a>"
      ]
    },
    {
      "cell_type": "code",
      "execution_count": 492,
      "metadata": {
        "id": "qCak7uOUJm02"
      },
      "outputs": [],
      "source": [
        "from sympy import *\n",
        "import numpy as np"
      ]
    },
    {
      "cell_type": "code",
      "execution_count": 493,
      "metadata": {
        "id": "WOGW0KN5SbNo"
      },
      "outputs": [],
      "source": [
        "x = symbols('x')"
      ]
    },
    {
      "cell_type": "code",
      "execution_count": 494,
      "metadata": {
        "id": "w8CI1GKhSt3s"
      },
      "outputs": [],
      "source": [
        "f = 5*x**5 + 6*x**2 - 10"
      ]
    },
    {
      "cell_type": "code",
      "execution_count": 495,
      "metadata": {
        "id": "t0IQUZoMSgjm"
      },
      "outputs": [],
      "source": [
        "df = diff(f, x)"
      ]
    },
    {
      "cell_type": "code",
      "execution_count": 496,
      "metadata": {
        "id": "qNrL5jKoT6h0"
      },
      "outputs": [],
      "source": [
        "poly = Poly(f)\n",
        "# Get the coefficients\n",
        "coefficients = poly.all_coeffs()\n",
        "hg_coff = coefficients[0]\n",
        "# Get the powers\n",
        "powers = poly.as_dict().keys()\n",
        "max_power = max(powers)[0]\n",
        "coefficients= [(i/hg_coff) for i in coefficients]\n",
        "abs_coefficients = [abs(i) for i in coefficients]\n",
        "range_zeroes = -max_power*max(abs_coefficients)"
      ]
    },
    {
      "cell_type": "code",
      "source": [
        "i=0\n",
        "x1 = range_zeroes\n",
        "y = df.subs(x,x1+0.01)\n",
        "abc = [range_zeroes]\n",
        "while i < (max_power-1) :\n",
        "  if df.subs(x,x1) == 0:\n",
        "    x1 +=0.0001\n",
        "  elif (x1 >= range_zeroes) & (x1 <= -range_zeroes):\n",
        "    if ((y >0)&(df.subs(x,x1) <0))|((y < 0) & (df.subs(x,x1)>0)):\n",
        "      abc.append(x1 +0.01)\n",
        "      y = df.subs(x,x1 + 0.01)\n",
        "      x1 += 0.01\n",
        "      i += 1\n",
        "    else:\n",
        "      x1 += 0.01\n",
        "      y = df.subs(x,x1+0.01)\n",
        "  else:\n",
        "    i += max_power + 1"
      ],
      "metadata": {
        "id": "s_FCmDJWDeWQ"
      },
      "execution_count": 503,
      "outputs": []
    },
    {
      "cell_type": "code",
      "source": [
        "li = []\n",
        "a = 0\n",
        "for x1 in abc:\n",
        "  i = 0\n",
        "  while i <1:\n",
        "    a+= 1\n",
        "    if df.subs(x, x1).evalf() < 0.001:\n",
        "      x1 = x1 - 0.01*(f.subs(x, x1).evalf()/df.subs(x, x1).evalf())\n",
        "      if round(f.subs(x, x1),3) == 0.000:\n",
        "        if not li:\n",
        "          for b in range(100):\n",
        "            x1 = x1 - 0.01*(f.subs(x, x1).evalf()/df.subs(x, x1).evalf())\n",
        "          li.append(x1)\n",
        "          i += 1\n",
        "        elif round(li[-1],3) == round(x1,3):\n",
        "          i += 1\n",
        "        else:\n",
        "          for b in range(100):\n",
        "            x1 = x1 - 0.01*(f.subs(x, x1).evalf()/df.subs(x, x1).evalf())\n",
        "          li.append(x1)\n",
        "          i += 1\n",
        "    elif (df.subs(x, x1).evalf() < 0.01) & (df.subs(x, x1).evalf() >= 0.001):\n",
        "      x1 = x1 - 0.1*(f.subs(x, x1).evalf()/df.subs(x, x1).evalf())\n",
        "      if round(f.subs(x, x1),3) == 0.000:\n",
        "        if not li:\n",
        "          for b in range(100):\n",
        "            x1 = x1 - 0.1*(f.subs(x, x1).evalf()/df.subs(x, x1).evalf())\n",
        "          li.append(x1)\n",
        "          i += 1\n",
        "        elif round(li[-1],3) == round(x1,3):\n",
        "          i += 1\n",
        "        else:\n",
        "          for b in range(100):\n",
        "            x1 = x1 - 0.1*(f.subs(x, x1).evalf()/df.subs(x, x1).evalf())\n",
        "          li.append(x1)\n",
        "          i += 1\n",
        "    elif  df.subs(x, x1).evalf() >= 0.01:\n",
        "      x1 = x1 - 0.1*(f.subs(x, x1).evalf()/df.subs(x, x1).evalf())\n",
        "      if round(f.subs(x, x1),3) == 0.000:\n",
        "        if not li:\n",
        "          for b in range(100):\n",
        "            x1 = x1 - 0.1*(f.subs(x, x1).evalf()/df.subs(x, x1).evalf())\n",
        "          li.append(x1)\n",
        "          i += 1\n",
        "        elif round(li[-1],3) == round(x1,3):\n",
        "          i += 1\n",
        "        else:\n",
        "          for b in range(100):\n",
        "            x1 = x1 - 0.1*(f.subs(x, x1).evalf()/df.subs(x, x1).evalf())\n",
        "          li.append(x1)\n",
        "          i += 1\n",
        "    elif a >1000:\n",
        "      a = 0\n",
        "      i +=1"
      ],
      "metadata": {
        "id": "OENyKp1HdE5-"
      },
      "execution_count": 504,
      "outputs": []
    },
    {
      "cell_type": "code",
      "source": [
        "li"
      ],
      "metadata": {
        "colab": {
          "base_uri": "https://localhost:8080/"
        },
        "id": "JzMRV7xUUOu7",
        "outputId": "ca532464-f979-4207-e7bb-11564df89388"
      },
      "execution_count": 505,
      "outputs": [
        {
          "output_type": "execute_result",
          "data": {
            "text/plain": [
              "[0.971799179589628]"
            ]
          },
          "metadata": {},
          "execution_count": 505
        }
      ]
    },
    {
      "cell_type": "code",
      "source": [
        "i =0\n",
        "arr = np.empty((1,2) ,dtype= float)\n",
        "ax =[]\n",
        "x1 = range_zeroes\n",
        "while i < 1:\n",
        "  if x1< -range_zeroes:\n",
        "    if abs(f.subs(x, x1)) > 100:\n",
        "      x1 += 1\n",
        "      asd= np.array([[x1,f.subs(x, x1)]])\n",
        "      arr = np.append(arr,asd,axis = 0)\n",
        "      if round(f.subs(x, x1),2) == 0.00:\n",
        "        ax.append(x1)\n",
        "    elif abs(f.subs(x, x1)) > 10:\n",
        "      x1 += 0.1\n",
        "      asd= np.array([[x1,f.subs(x, x1)]])\n",
        "      arr = np.append(arr,asd,axis = 0)\n",
        "      if round(f.subs(x, x1),2) == 0.00:\n",
        "        ax.append(x1)\n",
        "    elif abs(f.subs(x, x1)) > 1:\n",
        "      x1 += 0.05\n",
        "      asd= np.array([[x1,f.subs(x, x1)]])\n",
        "      arr = np.append(arr,asd,axis = 0)\n",
        "      if round(f.subs(x, x1),2) == 0.00:\n",
        "        ax.append(x1)\n",
        "    elif abs(f.subs(x, x1)) > 0.1:\n",
        "      x1 += 0.001\n",
        "      asd= np.array([[x1,f.subs(x, x1)]])\n",
        "      arr = np.append(arr,asd,axis = 0)\n",
        "      if round(f.subs(x, x1),2) == 0.00:\n",
        "        ax.append(x1)\n",
        "  else:\n",
        "    arr =np.delete(arr, 0, 0)\n",
        "    i+=1"
      ],
      "metadata": {
        "id": "3p4-YpWyMjl5"
      },
      "execution_count": null,
      "outputs": []
    },
    {
      "cell_type": "code",
      "source": [],
      "metadata": {
        "id": "ZVWGSN_5ZDfy"
      },
      "execution_count": null,
      "outputs": []
    }
  ],
  "metadata": {
    "colab": {
      "provenance": [],
      "authorship_tag": "ABX9TyOPH111LSBfespnmnbdg6E/",
      "include_colab_link": true
    },
    "kernelspec": {
      "display_name": "Python 3",
      "name": "python3"
    },
    "language_info": {
      "name": "python"
    }
  },
  "nbformat": 4,
  "nbformat_minor": 0
}