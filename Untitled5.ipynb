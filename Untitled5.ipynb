{
  "cells": [
    {
      "cell_type": "markdown",
      "metadata": {
        "id": "view-in-github",
        "colab_type": "text"
      },
      "source": [
        "<a href=\"https://colab.research.google.com/github/jouherdauf/Real_roots_of-a-polynomial_function/blob/main/Untitled5.ipynb\" target=\"_parent\"><img src=\"https://colab.research.google.com/assets/colab-badge.svg\" alt=\"Open In Colab\"/></a>"
      ]
    },
    {
      "cell_type": "code",
      "execution_count": 115,
      "metadata": {
        "id": "qCak7uOUJm02"
      },
      "outputs": [],
      "source": [
        "from sympy import *\n",
        "import numpy as np"
      ]
    },
    {
      "cell_type": "code",
      "execution_count": 116,
      "metadata": {
        "id": "WOGW0KN5SbNo"
      },
      "outputs": [],
      "source": [
        "x = symbols('x')"
      ]
    },
    {
      "cell_type": "code",
      "execution_count": 149,
      "metadata": {
        "id": "w8CI1GKhSt3s"
      },
      "outputs": [],
      "source": [
        "f = x**2"
      ]
    },
    {
      "cell_type": "code",
      "execution_count": 150,
      "metadata": {
        "id": "t0IQUZoMSgjm"
      },
      "outputs": [],
      "source": [
        "df = diff(f, x)"
      ]
    },
    {
      "cell_type": "code",
      "execution_count": 151,
      "metadata": {
        "id": "qNrL5jKoT6h0"
      },
      "outputs": [],
      "source": [
        "poly = Poly(f)\n",
        "# Get the coefficients\n",
        "coefficients = poly.all_coeffs()\n",
        "hg_coff = coefficients[0]\n",
        "# Get the powers\n",
        "powers = poly.as_dict().keys()\n",
        "max_power = max(powers)[0]\n",
        "coefficients= [(i/hg_coff) for i in coefficients]\n",
        "abs_coefficients = [abs(i) for i in coefficients]\n",
        "range_zeroes = -max_power*max(abs_coefficients)"
      ]
    },
    {
      "cell_type": "code",
      "source": [
        "i=0\n",
        "x1 = range_zeroes\n",
        "y = df.subs(x,x1+0.1)\n",
        "abc = [range_zeroes]\n",
        "while i < (max_power-1) :\n",
        "  if (x1 >= range_zeroes) & (x1 <= -range_zeroes):\n",
        "    if ((y >0)&(df.subs(x,x1) <0))|((y < 0) & (df.subs(x,x1)>0)):\n",
        "      abc.append(x1 +0.1)\n",
        "      y = df.subs(x,x1 + 0.1)\n",
        "      x1 += 0.1\n",
        "      i += 1\n",
        "    else:\n",
        "      x1 += 0.1\n",
        "      y = df.subs(x,x1+0.1)\n",
        "  else:\n",
        "    i += max_power + 1"
      ],
      "metadata": {
        "id": "s_FCmDJWDeWQ"
      },
      "execution_count": 152,
      "outputs": []
    },
    {
      "cell_type": "code",
      "source": [
        "li = []\n",
        "a = 0\n",
        "for x1 in abc:\n",
        "  i = 0\n",
        "  while i <1:\n",
        "    x1 = x1 - 0.1*(f.subs(x, x1).evalf()/df.subs(x, x1).evalf())\n",
        "    a+= 1\n",
        "    if round(f.subs(x, x1),6) == 0.000000:\n",
        "      if not li:\n",
        "        for b in range(100):\n",
        "          x1 = x1 - 0.1*(f.subs(x, x1).evalf()/df.subs(x, x1).evalf())\n",
        "        li.append(x1)\n",
        "        i += 1\n",
        "\n",
        "      elif round(li[-1],3) == round(x1,3):\n",
        "        i += 1\n",
        "      else:\n",
        "        for b in range(100):\n",
        "          x1 = x1 - 0.1*(f.subs(x, x1).evalf()/df.subs(x, x1).evalf())\n",
        "        li.append(x1)\n",
        "        i += 1\n",
        "    elif a >100:\n",
        "      a = 0\n",
        "      i +=1"
      ],
      "metadata": {
        "id": "IX95aHPV-vE1"
      },
      "execution_count": 153,
      "outputs": []
    },
    {
      "cell_type": "code",
      "source": [
        "abc"
      ],
      "metadata": {
        "colab": {
          "base_uri": "https://localhost:8080/"
        },
        "id": "8Rjco1b80MLo",
        "outputId": "aebde75f-ebbb-4e74-f253-b0b9a8e46a1d"
      },
      "execution_count": 154,
      "outputs": [
        {
          "output_type": "execute_result",
          "data": {
            "text/plain": [
              "[-2, 6.38378239159465e-16]"
            ]
          },
          "metadata": {},
          "execution_count": 154
        }
      ]
    },
    {
      "cell_type": "code",
      "source": [
        "li"
      ],
      "metadata": {
        "colab": {
          "base_uri": "https://localhost:8080/"
        },
        "id": "k4kGknr98MO5",
        "outputId": "3d2f5209-fb89-4a79-c6cb-9184eb90b2a4"
      },
      "execution_count": 155,
      "outputs": [
        {
          "output_type": "execute_result",
          "data": {
            "text/plain": [
              "[3.59056016764054e-18]"
            ]
          },
          "metadata": {},
          "execution_count": 155
        }
      ]
    },
    {
      "cell_type": "code",
      "source": [],
      "metadata": {
        "id": "hGkaA9ZV8meu"
      },
      "execution_count": null,
      "outputs": []
    }
  ],
  "metadata": {
    "colab": {
      "provenance": [],
      "toc_visible": true,
      "authorship_tag": "ABX9TyNN6b/UFg66ad83Sn6MlymN",
      "include_colab_link": true
    },
    "kernelspec": {
      "display_name": "Python 3",
      "name": "python3"
    },
    "language_info": {
      "name": "python"
    }
  },
  "nbformat": 4,
  "nbformat_minor": 0
}